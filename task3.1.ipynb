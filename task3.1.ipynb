{
 "cells": [
  {
   "cell_type": "markdown",
   "metadata": {},
   "source": [
    "Задача 1\n",
    "\n",
    "(1 возможный балл)\n",
    "В файле 3.graph.txt задан ориентированный граф - в каждой строке через символ табуляции записана пара вершин u<tab>v, соответствующая ребру из u в v в графе.\n",
    "\n",
    "Постройте график ассортативности dnn(d) данного графа. С помощью вызова curve_fit без специальных параметров аппроксимируйте эту функцию функцией вида c⋅dδ. Необходимо использовать все пары (d,dnn(d)). Постройте график и полученную аппроксимацию в log-log координатах. Является ли граф ассортативным?\n",
    "\n",
    "Обратите внимание, что в графе есть петли и кратные ребра.\n",
    "\n",
    "Ответом на задачу является единственное число - оптимальное значение параметра δ, округленное до сотых.\n",
    "\n",
    "\n"
   ]
  },
  {
   "cell_type": "code",
   "execution_count": 217,
   "metadata": {},
   "outputs": [
    {
     "name": "stdout",
     "output_type": "stream",
     "text": [
      "2000\n",
      "4000\n",
      "<class 'networkx.classes.multidigraph.MultiDiGraph'>\n"
     ]
    }
   ],
   "source": [
    "import networkx as nx\n",
    "filename = \"3.graph.txt\"\n",
    "\n",
    "debug = False\n",
    "\n",
    "if debug:\n",
    "    G = nx.MultiDiGraph()\n",
    "    # 1\n",
    "    G.add_edge(1, 1)\n",
    "    G.add_edge(1, 1)\n",
    "    G.add_edge(1, 2)\n",
    "    G.add_edge(1, 2)\n",
    "    G.add_edge(1, 5)\n",
    "\n",
    "    # 2\n",
    "    G.add_edge(2, 2)\n",
    "\n",
    "    # 3\n",
    "    G.add_edge(3, 2)\n",
    "    G.add_edge(3, 4)\n",
    "    G.add_edge(3, 4)\n",
    "    G.add_edge(3, 5)\n",
    "    G.add_edge(3, 5)\n",
    "\n",
    "    # 4\n",
    "    G.add_edge(4, 3)\n",
    "    G.add_edge(4, 3)\n",
    "    G.add_edge(4, 3)\n",
    "    G.add_edge(4, 4)\n",
    "    G.add_edge(4, 4)\n",
    "    G.add_edge(4, 4)\n",
    "    G.add_edge(4, 5)\n",
    "\n",
    "    # 5\n",
    "    G.add_edge(5, 1)\n",
    "    G.add_edge(5, 1)\n",
    "    G.add_edge(5, 1)\n",
    "    G.add_edge(5, 3)\n",
    "    G.add_edge(5, 3)\n",
    "    G.add_edge(5, 4)\n",
    "    G.add_edge(5, 4)\n",
    "else:\n",
    "    G = nx.read_edgelist(filename, nodetype=int, create_using=nx.MultiDiGraph()) \n",
    "\n",
    "print G.number_of_nodes()\n",
    "print G.number_of_edges()\n",
    "print type(G)\n"
   ]
  },
  {
   "cell_type": "code",
   "execution_count": 218,
   "metadata": {},
   "outputs": [],
   "source": [
    "from collections import defaultdict\n",
    "def get_X(G):\n",
    "    result = defaultdict(int)\n",
    "    for u, v in G.edges():\n",
    "        result[(G.degree(u), G.degree(v))] += 1\n",
    "        result[(G.degree(v), G.degree(u))] += 1\n",
    "    return result\n",
    "\n",
    "X = get_X(G)"
   ]
  },
  {
   "cell_type": "code",
   "execution_count": 221,
   "metadata": {},
   "outputs": [
    {
     "name": "stdout",
     "output_type": "stream",
     "text": [
      "len dnn.keys() =  41\n",
      "len dnn.values() =  41\n",
      "degres =  41\n",
      "{128: 14.4296875, 2: 334.81276445698165, 3: 223.11940298507463, 4: 152.9954128440367, 5: 167.9320754716981, 6: 166.7093023255814, 7: 131.06428571428572, 8: 180.1375, 9: 102.70707070707071, 10: 80.89090909090909, 11: 19.727272727272727, 12: 85.81944444444444, 13: 124.76923076923077, 14: 91.9047619047619, 15: 85.4, 16: 55.4375, 17: 76.76470588235294, 18: 29.833333333333332, 19: 69.44736842105263, 20: 80.9, 21: 91.02380952380952, 22: 18.681818181818183, 23: 99.56521739130434, 24: 50.708333333333336, 25: 52.48, 26: 20.865384615384617, 29: 41.689655172413794, 31: 74.70967741935483, 32: 10.71875, 35: 35.68571428571428, 36: 36.44444444444444, 41: 30.70731707317073, 43: 54.53488372093023, 49: 25.6734693877551, 59: 25.864406779661017, 85: 19.152941176470588, 92: 17.26086956521739, 1120: 8.19375, 103: 14.03883495145631, 114: 14.75438596491228, 249: 10.068273092369479}\n"
     ]
    }
   ],
   "source": [
    "def get_dnn(G, X):\n",
    "    result = dict()\n",
    "    degree_values = set(G.degree().values())\n",
    "    for d1 in degree_values:\n",
    "        sum1 = 0.0\n",
    "        sum2 = 0.0\n",
    "        for j1, j2 in X.keys():\n",
    "            if j1 == d1:\n",
    "                X1 = X[(d1, j2)]\n",
    "                sum1+= j2 * X1\n",
    "                sum2+= X1\n",
    "        if sum2 != 0:        \n",
    "            result[d1] = float(sum1) / float(sum2)\n",
    "    return result\n",
    "dnn = get_dnn(G, X)\n",
    "print \"len dnn.keys() = \", len(dnn.keys())\n",
    "print \"len dnn.values() = \", len(dnn.values())\n",
    "print \"degres = \",  len(set(G.degree().values()))\n",
    "print dnn"
   ]
  },
  {
   "cell_type": "code",
   "execution_count": 227,
   "metadata": {},
   "outputs": [
    {
     "name": "stdout",
     "output_type": "stream",
     "text": [
      "<type 'list'>\n",
      "41\n",
      "41\n",
      "{128: 14.4296875, 2: 334.81276445698165, 3: 223.11940298507463, 4: 152.9954128440367, 5: 167.9320754716981, 6: 166.7093023255814, 7: 131.06428571428572, 8: 180.1375, 9: 102.70707070707071, 10: 80.89090909090909, 11: 19.727272727272727, 12: 85.81944444444444, 13: 124.76923076923077, 14: 91.9047619047619, 15: 85.4, 16: 55.4375, 17: 76.76470588235294, 18: 29.833333333333332, 19: 69.44736842105263, 20: 80.9, 21: 91.02380952380952, 22: 18.681818181818183, 23: 99.56521739130434, 24: 50.708333333333336, 25: 52.48, 26: 20.865384615384617, 29: 41.689655172413794, 31: 74.70967741935483, 32: 10.71875, 35: 35.68571428571428, 36: 36.44444444444444, 41: 30.70731707317073, 43: 54.53488372093023, 49: 25.6734693877551, 59: 25.864406779661017, 85: 19.152941176470588, 92: 17.26086956521739, 1120: 8.19375, 103: 14.03883495145631, 114: 14.75438596491228, 249: 10.068273092369479}\n",
      "[128, 2, 3, 4, 5, 6, 7, 8, 9, 10, 11, 12, 13, 14, 15, 16, 17, 18, 19, 20, 21, 22, 23, 24, 25, 26, 29, 31, 32, 35, 36, 41, 43, 49, 59, 85, 92, 1120, 103, 114, 249]\n",
      "[14.4296875, 334.81276445698165, 223.11940298507463, 152.9954128440367, 167.9320754716981, 166.7093023255814, 131.06428571428572, 180.1375, 102.70707070707071, 80.89090909090909, 19.727272727272727, 85.81944444444444, 124.76923076923077, 91.9047619047619, 85.4, 55.4375, 76.76470588235294, 29.833333333333332, 69.44736842105263, 80.9, 91.02380952380952, 18.681818181818183, 99.56521739130434, 50.708333333333336, 52.48, 20.865384615384617, 41.689655172413794, 74.70967741935483, 10.71875, 35.68571428571428, 36.44444444444444, 30.70731707317073, 54.53488372093023, 25.6734693877551, 25.864406779661017, 19.152941176470588, 17.26086956521739, 8.19375, 14.03883495145631, 14.75438596491228, 10.068273092369479]\n",
      "527.588557787 -0.723625445985\n"
     ]
    }
   ],
   "source": [
    "def f(d, c, b):\n",
    "    return float(c) * (d ** b)\n",
    "\n",
    "from scipy.optimize import curve_fit\n",
    "import numpy as np\n",
    "\n",
    "print type(dnn.keys())\n",
    "print len(dnn.keys())\n",
    "print len(dnn.values())\n",
    "\n",
    "print dnn\n",
    "print dnn.keys()\n",
    "print dnn.values()\n",
    "             \n",
    "\n",
    "xdata = np.array(dnn.keys())\n",
    "ydata = np.array(dnn.values())\n",
    "\n",
    "popt, pcov = curve_fit(f, xdata, ydata)\n",
    "c, b = popt\n",
    "print c, b\n",
    "\n",
    "# from scipy.optimize import curve_fit\n",
    "# import numpy as np\n",
    "# def f(x, a, b):\n",
    "# #     print type(x)\n",
    "#     res = a*x*x + b\n",
    "#     print a, b, res\n",
    "#     return res\n",
    "# # 2x^2 + 1\n",
    "# popt, pcov = curve_fit(f, np.array([1, 2, 3, 4, 5]), np.array([3, 9, 19, 33, 51]))\n",
    "# print popt\n",
    "\n",
    "# a = np.array([1, 2])\n",
    "# print a ** 2\n"
   ]
  },
  {
   "cell_type": "code",
   "execution_count": 235,
   "metadata": {},
   "outputs": [
    {
     "data": {
      "text/plain": [
       "<matplotlib.legend.Legend at 0x7fcb67773410>"
      ]
     },
     "execution_count": 235,
     "metadata": {},
     "output_type": "execute_result"
    },
    {
     "data": {
      "image/png": "[encoded data removed]",
      "text/plain": [
       "<matplotlib.figure.Figure at 0x7fcb671e2250>"
      ]
     },
     "metadata": {},
     "output_type": "display_data"
    }
   ],
   "source": [
    "import matplotlib\n",
    "matplotlib.rcParams['xtick.labelsize'] = 18\n",
    "matplotlib.rcParams['ytick.labelsize'] = 18\n",
    "import matplotlib.pyplot as plt\n",
    "%matplotlib inline\n",
    "import pylab\n",
    "pylab.rcParams['figure.figsize'] = 10, 10\n",
    "plt.loglog(dnn.keys(), dnn.values(), ls='None', marker='.', markersize=10,\n",
    "           color='c', label=u\"Dnn\")\n",
    "estimated = [f(d, c, b) for d in dnn.keys()]\n",
    "plt.loglog(dnn.keys(),\n",
    "           estimated,\n",
    "           ls='--',color='r',linewidth=3,label=u\"c * d ^ b\")\n",
    "\n",
    "plt.xlabel(u\"degree (log d)\", fontsize=18)\n",
    "plt.ylabel(u\"number of vertices (log)\", fontsize=18)\n",
    "plt.legend()"
   ]
  },
  {
   "cell_type": "code",
   "execution_count": null,
   "metadata": {
    "collapsed": true
   },
   "outputs": [],
   "source": []
  }
 ],
 "metadata": {
  "kernelspec": {
   "display_name": "Python 2",
   "language": "python",
   "name": "python2"
  },
  "language_info": {
   "codemirror_mode": {
    "name": "ipython",
    "version": 2
   },
   "file_extension": ".py",
   "mimetype": "text/x-python",
   "name": "python",
   "nbconvert_exporter": "python",
   "pygments_lexer": "ipython2",
   "version": "2.7.13"
  }
 },
 "nbformat": 4,
 "nbformat_minor": 2
}
