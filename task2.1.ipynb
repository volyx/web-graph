{
 "cells": [
  {
   "cell_type": "markdown",
   "metadata": {},
   "source": [
    "Рассмотрим следующую модель генерации неориентированных графов. Граф G(0) состоит из одного ребра. Для всех t, t⩾1, граф G(t) получается из графа G(t−1) добавлением новой вершины, соединенной с обоими концами случайного ребра, выбранного равновероятно из множества всех ребер графа G(t−1). Таким образом, граф G(1) - это треугольник, граф G(2) состоит из 4 вершин и 5 ребер и т.д.\n",
    "\n",
    "Сгенерируйте графы в такой модели при различных значениях t до t=3000 (с каким-нибудь шагом) и эмпирически установите, чему в пределе равна доля вершин степени 2.\n",
    "\n",
    "Ответом на задачу является единственное число, округлите его до десятых."
   ]
  },
  {
   "cell_type": "code",
   "execution_count": 14,
   "metadata": {
    "collapsed": true
   },
   "outputs": [],
   "source": [
    "import networkx as nx\n",
    "import random\n",
    "from collections import Counter"
   ]
  },
  {
   "cell_type": "code",
   "execution_count": 59,
   "metadata": {},
   "outputs": [
    {
     "name": "stdout",
     "output_type": "stream",
     "text": [
      "deg2/N  0.0 of t =  0\n",
      "deg2/N  0.529411764706 of t =  100\n",
      "deg2/N  0.509900990099 of t =  200\n",
      "deg2/N  0.486754966887 of t =  300\n",
      "deg2/N  0.507462686567 of t =  400\n",
      "deg2/N  0.513944223108 of t =  500\n",
      "deg2/N  0.491694352159 of t =  600\n",
      "deg2/N  0.508547008547 of t =  700\n",
      "deg2/N  0.511221945137 of t =  800\n",
      "deg2/N  0.490022172949 of t =  900\n",
      "deg2/N  0.506986027944 of t =  1000\n",
      "deg2/N  0.518148820327 of t =  1100\n",
      "deg2/N  0.497504159734 of t =  1200\n",
      "deg2/N  0.497695852535 of t =  1300\n",
      "deg2/N  0.499286733238 of t =  1400\n",
      "deg2/N  0.496005326232 of t =  1500\n",
      "deg2/N  0.502496878901 of t =  1600\n",
      "deg2/N  0.494712103408 of t =  1700\n",
      "deg2/N  0.5 of t =  1800\n",
      "deg2/N  0.498948475289 of t =  1900\n",
      "deg2/N  0.496003996004 of t =  2000\n",
      "deg2/N  0.498097050428 of t =  2100\n",
      "deg2/N  0.503633060854 of t =  2200\n",
      "deg2/N  0.5 of t =  2300\n",
      "deg2/N  0.496253122398 of t =  2400\n",
      "deg2/N  0.501598721023 of t =  2500\n",
      "deg2/N  0.485780169101 of t =  2600\n",
      "deg2/N  0.492968171725 of t =  2700\n",
      "deg2/N  0.495360456817 of t =  2800\n",
      "deg2/N  0.500689179876 of t =  2900\n"
     ]
    }
   ],
   "source": [
    "def generateGraph(n):\n",
    "    G = nx.MultiGraph()\n",
    "    G.add_node(0)\n",
    "    G.add_node(1)\n",
    "    G.add_edge(0, 1)\n",
    "    while G.number_of_nodes() < n + 2:\n",
    "        new_node = G.number_of_nodes()\n",
    "        G.add_node(new_node)\n",
    "#         print G.edges()\n",
    "        u,v = random.choice(G.edges())\n",
    "#         print u,v \n",
    "        G.add_edge(new_node, v)\n",
    "        G.add_edge(new_node, u)\n",
    "    return G\n",
    "\n",
    "for t in range(0, 3000, 100):\n",
    "    G = generateGraph(t)\n",
    "#     print t, G.edges()\n",
    "#     print nx.degree(G)\n",
    "    degrees = Counter(nx.degree(G).values()) # (n:k) n - степень, кол-во\n",
    "#     print \"degrees=\", degrees\n",
    "#     sorted_degree_values = sorted(degrees.keys())\n",
    "#     print \"sorted=\", sorted_degree_values\n",
    "#     counts = [degrees[d] for d in sorted_degree_values if d == 2]\n",
    "#     print \"deg2=\", degrees[2]\n",
    "#     print \"number_of_nodes=\", G.number_of_nodes()\n",
    "    print \"deg2/N \", degrees[2] / float(G.number_of_nodes()), \"of t = \", t"
   ]
  },
  {
   "cell_type": "code",
   "execution_count": null,
   "metadata": {
    "collapsed": true
   },
   "outputs": [],
   "source": []
  },
  {
   "cell_type": "code",
   "execution_count": null,
   "metadata": {
    "collapsed": true
   },
   "outputs": [],
   "source": []
  }
 ],
 "metadata": {
  "kernelspec": {
   "display_name": "Python 2",
   "language": "python",
   "name": "python2"
  },
  "language_info": {
   "codemirror_mode": {
    "name": "ipython",
    "version": 2
   },
   "file_extension": ".py",
   "mimetype": "text/x-python",
   "name": "python",
   "nbconvert_exporter": "python",
   "pygments_lexer": "ipython2",
   "version": "2.7.13"
  }
 },
 "nbformat": 4,
 "nbformat_minor": 2
}
