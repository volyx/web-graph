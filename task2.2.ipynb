{
 "cells": [
  {
   "cell_type": "markdown",
   "metadata": {},
   "source": [
    "Второй степенью вершины t называется величина d2(t)=|{{i,j}: i≠t,j≠t,{i,t}∈E(G),{i,j}∈E(G)}|.\n",
    "Иными словами, вторая степень вершины t - это количество ребер, которые инцидентны соседям t, кроме тех, концом которых является t. При этом если в вершине i, соединенной с t, есть петля, то она дает вклад 2 во вторую степень.\n",
    "\n",
    "Найдите число вершин второй степени 3 в неориентированном графе с петлями, без кратных ребер, заданном в файле 2.graph.txt В каждой строке через символ табуляции задана пара вершин, соединенных ребром."
   ]
  },
  {
   "cell_type": "code",
   "execution_count": 61,
   "metadata": {},
   "outputs": [
    {
     "name": "stdout",
     "output_type": "stream",
     "text": [
      "10000\n",
      "10000\n",
      "<class 'networkx.classes.multigraph.MultiGraph'>\n",
      "1030\n"
     ]
    }
   ],
   "source": [
    "import networkx as nx\n",
    "filename = \"2.graph.txt\"\n",
    "G = nx.read_edgelist(filename, nodetype=int)\n",
    "\n",
    "# G = nx.MultiGraph()\n",
    "# G.add_edge(0, 1)\n",
    "# G.add_edge(1, 1)\n",
    "# G.add_edge(1, 1)\n",
    "# G.add_edge(1, 2)\n",
    "# G.add_edge(3, 4)\n",
    "# G.add_edge(5, 6)\n",
    "# G.add_edge(3, 5)\n",
    "# G.add_edge(2, 6)\n",
    "# G.add_edge(1, 3)\n",
    "# G.add_edge(5, 6)\n",
    "\n",
    "print G.number_of_nodes()\n",
    "print G.number_of_edges()\n",
    "print type(nx.MultiGraph(G))\n",
    "\n",
    "deg2 = dict()\n",
    "for n in G.nodes():\n",
    "#     print \"n=\",n, \"neighbors=\", G.neighbors(n)\n",
    "    deg2[n] = 0\n",
    "    for neighbor in G.neighbors(n):\n",
    "        deg2[n] += len(G.neighbors(neighbor))\n",
    "    deg2[n] = deg2[n] - len(G.neighbors(n))\n",
    "# print  \"deg2=\", deg2  \n",
    "sum = 0\n",
    "for d in deg2.values():\n",
    "    if d == 3:\n",
    "        sum = sum + 1\n",
    "print sum        "
   ]
  },
  {
   "cell_type": "code",
   "execution_count": null,
   "metadata": {
    "collapsed": true
   },
   "outputs": [],
   "source": []
  }
 ],
 "metadata": {
  "kernelspec": {
   "display_name": "Python 2",
   "language": "python",
   "name": "python2"
  },
  "language_info": {
   "codemirror_mode": {
    "name": "ipython",
    "version": 2
   },
   "file_extension": ".py",
   "mimetype": "text/x-python",
   "name": "python",
   "nbconvert_exporter": "python",
   "pygments_lexer": "ipython2",
   "version": "2.7.13"
  }
 },
 "nbformat": 4,
 "nbformat_minor": 2
}
